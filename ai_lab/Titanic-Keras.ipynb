{
 "cells": [
  {
   "cell_type": "code",
   "execution_count": null,
   "metadata": {},
   "outputs": [],
   "source": [
    "#匯入套件與模組\n",
    "import numpy\n",
    "import pandas as pd\n",
    "from sklearn import preprocessing\n",
    "numpy.random.seed(10)"
   ]
  },
  {
   "cell_type": "code",
   "execution_count": null,
   "metadata": {},
   "outputs": [],
   "source": [
    "#下載資料集\n",
    "import urllib.request \n",
    "import os\n",
    "url=\"http://biostat.mc.vanderbilt.edu/wiki/pub/Main/DataSets/titanic3.xls\"\n",
    "filepath=\"titanic3.xls\"\n",
    "if not os.path.isfile(filepath):\n",
    "    result=urllib.request.urlretrieve(url,filepath)\n",
    "    print('downloaded:',result)"
   ]
  },
  {
   "cell_type": "code",
   "execution_count": 14,
   "metadata": {},
   "outputs": [],
   "source": [
    "#讀取資料集\n",
    "all_df = pd.read_excel(\"titanic3.xls\")"
   ]
  },
  {
   "cell_type": "code",
   "execution_count": 15,
   "metadata": {
    "scrolled": true
   },
   "outputs": [
    {
     "data": {
      "text/html": [
       "<div>\n",
       "<style scoped>\n",
       "    .dataframe tbody tr th:only-of-type {\n",
       "        vertical-align: middle;\n",
       "    }\n",
       "\n",
       "    .dataframe tbody tr th {\n",
       "        vertical-align: top;\n",
       "    }\n",
       "\n",
       "    .dataframe thead th {\n",
       "        text-align: right;\n",
       "    }\n",
       "</style>\n",
       "<table border=\"1\" class=\"dataframe\">\n",
       "  <thead>\n",
       "    <tr style=\"text-align: right;\">\n",
       "      <th></th>\n",
       "      <th>pclass</th>\n",
       "      <th>survived</th>\n",
       "      <th>name</th>\n",
       "      <th>sex</th>\n",
       "      <th>age</th>\n",
       "      <th>sibsp</th>\n",
       "      <th>parch</th>\n",
       "      <th>ticket</th>\n",
       "      <th>fare</th>\n",
       "      <th>cabin</th>\n",
       "      <th>embarked</th>\n",
       "      <th>boat</th>\n",
       "      <th>body</th>\n",
       "      <th>home.dest</th>\n",
       "    </tr>\n",
       "  </thead>\n",
       "  <tbody>\n",
       "    <tr>\n",
       "      <th>0</th>\n",
       "      <td>1</td>\n",
       "      <td>1</td>\n",
       "      <td>Allen, Miss. Elisabeth Walton</td>\n",
       "      <td>female</td>\n",
       "      <td>29.0000</td>\n",
       "      <td>0</td>\n",
       "      <td>0</td>\n",
       "      <td>24160</td>\n",
       "      <td>211.3375</td>\n",
       "      <td>B5</td>\n",
       "      <td>S</td>\n",
       "      <td>2</td>\n",
       "      <td>NaN</td>\n",
       "      <td>St Louis, MO</td>\n",
       "    </tr>\n",
       "    <tr>\n",
       "      <th>1</th>\n",
       "      <td>1</td>\n",
       "      <td>1</td>\n",
       "      <td>Allison, Master. Hudson Trevor</td>\n",
       "      <td>male</td>\n",
       "      <td>0.9167</td>\n",
       "      <td>1</td>\n",
       "      <td>2</td>\n",
       "      <td>113781</td>\n",
       "      <td>151.5500</td>\n",
       "      <td>C22 C26</td>\n",
       "      <td>S</td>\n",
       "      <td>11</td>\n",
       "      <td>NaN</td>\n",
       "      <td>Montreal, PQ / Chesterville, ON</td>\n",
       "    </tr>\n",
       "  </tbody>\n",
       "</table>\n",
       "</div>"
      ],
      "text/plain": [
       "   pclass  survived                            name     sex      age  sibsp  \\\n",
       "0       1         1   Allen, Miss. Elisabeth Walton  female  29.0000      0   \n",
       "1       1         1  Allison, Master. Hudson Trevor    male   0.9167      1   \n",
       "\n",
       "   parch  ticket      fare    cabin embarked boat  body  \\\n",
       "0      0   24160  211.3375       B5        S    2   NaN   \n",
       "1      2  113781  151.5500  C22 C26        S   11   NaN   \n",
       "\n",
       "                         home.dest  \n",
       "0                     St Louis, MO  \n",
       "1  Montreal, PQ / Chesterville, ON  "
      ]
     },
     "execution_count": 15,
     "metadata": {},
     "output_type": "execute_result"
    }
   ],
   "source": [
    "all_df[:2]"
   ]
  },
  {
   "cell_type": "code",
   "execution_count": 16,
   "metadata": {},
   "outputs": [],
   "source": [
    "cols=['survived','name','pclass' ,'sex', 'age', 'sibsp',\n",
    "      'parch', 'fare', 'embarked']\n",
    "all_df=all_df[cols]"
   ]
  },
  {
   "cell_type": "code",
   "execution_count": 17,
   "metadata": {},
   "outputs": [],
   "source": [
    "# 依8:2比例將資料分成訓練資料與測試資料\n",
    "msk = numpy.random.rand(len(all_df)) < 0.8\n",
    "train_df = all_df[msk]\n",
    "test_df = all_df[~msk]"
   ]
  },
  {
   "cell_type": "code",
   "execution_count": 18,
   "metadata": {
    "scrolled": true
   },
   "outputs": [
    {
     "name": "stdout",
     "output_type": "stream",
     "text": [
      "total: 1309 train: 1034 test: 275\n"
     ]
    }
   ],
   "source": [
    "print('total:',len(all_df),\n",
    "      'train:',len(train_df),\n",
    "      'test:',len(test_df),)"
   ]
  },
  {
   "cell_type": "code",
   "execution_count": 19,
   "metadata": {},
   "outputs": [],
   "source": [
    "#資料前處理\n",
    "def PreprocessData(all_df):\n",
    "    df=all_df.drop(['name'], axis=1)\n",
    "    age_mean = df['age'].mean()\n",
    "    df['age'] = df['age'].fillna(age_mean)\n",
    "    fare_mean = df['fare'].mean()\n",
    "    df['fare'] = df['fare'].fillna(fare_mean)\n",
    "    df['sex'] = df['sex'].map({'female':0, 'male':1}).astype(int)\n",
    "    x_OneHot_df = pd.get_dummies(data=df,columns=[\"embarked\"])\n",
    "    \n",
    "    ndarray = x_OneHot_df.values\n",
    "    Features = ndarray[:,1:]\n",
    "    Label = ndarray[:,0]\n",
    "    \n",
    "    minmax_scale = preprocessing.MinMaxScaler(feature_range=(0,1))\n",
    "    scaledFeatures=minmax_scale.fit_transform(Features)\n",
    "    \n",
    "    return scaledFeatures,Label\n",
    "    "
   ]
  },
  {
   "cell_type": "code",
   "execution_count": 20,
   "metadata": {},
   "outputs": [],
   "source": [
    "train_Features,train_Label = PreprocessData(train_df)\n",
    "test_Features,test_Label = PreprocessData(test_df)"
   ]
  },
  {
   "cell_type": "markdown",
   "metadata": {},
   "source": [
    "# Build Model"
   ]
  },
  {
   "cell_type": "code",
   "execution_count": 46,
   "metadata": {},
   "outputs": [],
   "source": [
    "#匯入keras模組\n",
    "from keras.models import Sequential\n",
    "from keras.layers import Dense,Dropout"
   ]
  },
  {
   "cell_type": "code",
   "execution_count": 156,
   "metadata": {},
   "outputs": [],
   "source": [
    "#建立Keras Sequentail模型\n",
    "model = Sequential()"
   ]
  },
  {
   "cell_type": "code",
   "execution_count": 157,
   "metadata": {},
   "outputs": [],
   "source": [
    "#建立Dense層\n",
    "#輸出的神經元個數為40\n",
    "#輸入的神經元個數為9(9個features)\n",
    "#設定kernel_initializer 為 uniform distibution設定之亂數，初始化weight及bias\n",
    "#設定Activation Function 為relu\n",
    "model.add(Dense(units=50,input_dim=9,\n",
    "               kernel_initializer='uniform',\n",
    "               activation='relu'))"
   ]
  },
  {
   "cell_type": "code",
   "execution_count": 158,
   "metadata": {},
   "outputs": [],
   "source": [
    "#建立Dense層\n",
    "#輸出的神經元個數為30\n",
    "#輸入的神經元個數為 上一層之輸出層（預設）\n",
    "#設定kernel_initializer 為 uniform distibution設定之亂數，初始化weight及bias\n",
    "#設定Activation Function 為relu\n",
    "model.add(Dense(units=50,\n",
    "                kernel_initializer='uniform',\n",
    "               activation='relu'))"
   ]
  },
  {
   "cell_type": "code",
   "execution_count": 159,
   "metadata": {},
   "outputs": [],
   "source": [
    "#建立Dense層\n",
    "#輸出的神經元個數為1(最後的結果)\n",
    "#輸入的神經元個數為 上一層之輸出層（預設）\n",
    "#設定kernel_initializer 為 uniform distibution設定之亂數，初始化weight及bias\n",
    "#設定Activation Function 為 sigmoid\n",
    "model.add(Dense(units=1,\n",
    "                kernel_initializer='uniform',\n",
    "               activation='sigmoid'))"
   ]
  },
  {
   "cell_type": "code",
   "execution_count": 160,
   "metadata": {
    "scrolled": true
   },
   "outputs": [],
   "source": [
    "#定義模型訓練方式：\n",
    "#設定loss function\n",
    "#optimizer 設定優化器\n",
    "#設定評估模型的方式為 accuracy\n",
    "model.compile(loss = 'binary_crossentropy',\n",
    "             optimizer='adam',metrics= ['accuracy'])"
   ]
  },
  {
   "cell_type": "code",
   "execution_count": 161,
   "metadata": {},
   "outputs": [
    {
     "name": "stdout",
     "output_type": "stream",
     "text": [
      "Model: \"sequential_14\"\n",
      "_________________________________________________________________\n",
      "Layer (type)                 Output Shape              Param #   \n",
      "=================================================================\n",
      "dense_39 (Dense)             (None, 50)                500       \n",
      "_________________________________________________________________\n",
      "dense_40 (Dense)             (None, 50)                2550      \n",
      "_________________________________________________________________\n",
      "dense_41 (Dense)             (None, 1)                 51        \n",
      "=================================================================\n",
      "Total params: 3,101\n",
      "Trainable params: 3,101\n",
      "Non-trainable params: 0\n",
      "_________________________________________________________________\n"
     ]
    }
   ],
   "source": [
    "model.summary()"
   ]
  },
  {
   "cell_type": "code",
   "execution_count": 162,
   "metadata": {},
   "outputs": [
    {
     "name": "stdout",
     "output_type": "stream",
     "text": [
      "Epoch 1/100\n",
      "59/59 - 0s - loss: 0.6761 - accuracy: 0.6237 - val_loss: 0.5833 - val_accuracy: 0.7885\n",
      "Epoch 2/100\n",
      "59/59 - 0s - loss: 0.5699 - accuracy: 0.7237 - val_loss: 0.4443 - val_accuracy: 0.7981\n",
      "Epoch 3/100\n",
      "59/59 - 0s - loss: 0.4965 - accuracy: 0.7656 - val_loss: 0.4648 - val_accuracy: 0.7885\n",
      "Epoch 4/100\n",
      "59/59 - 0s - loss: 0.4848 - accuracy: 0.7720 - val_loss: 0.4342 - val_accuracy: 0.7692\n",
      "Epoch 5/100\n",
      "59/59 - 0s - loss: 0.4792 - accuracy: 0.7613 - val_loss: 0.4321 - val_accuracy: 0.8173\n",
      "Epoch 6/100\n",
      "59/59 - 0s - loss: 0.4744 - accuracy: 0.7785 - val_loss: 0.4294 - val_accuracy: 0.8173\n",
      "Epoch 7/100\n",
      "59/59 - 0s - loss: 0.4674 - accuracy: 0.7720 - val_loss: 0.4221 - val_accuracy: 0.8269\n",
      "Epoch 8/100\n",
      "59/59 - 0s - loss: 0.4662 - accuracy: 0.7828 - val_loss: 0.4221 - val_accuracy: 0.7981\n",
      "Epoch 9/100\n",
      "59/59 - 0s - loss: 0.4644 - accuracy: 0.7720 - val_loss: 0.4224 - val_accuracy: 0.8269\n",
      "Epoch 10/100\n",
      "59/59 - 0s - loss: 0.4615 - accuracy: 0.7828 - val_loss: 0.4188 - val_accuracy: 0.8269\n",
      "Epoch 11/100\n",
      "59/59 - 0s - loss: 0.4616 - accuracy: 0.7742 - val_loss: 0.4215 - val_accuracy: 0.8173\n",
      "Epoch 12/100\n",
      "59/59 - 0s - loss: 0.4575 - accuracy: 0.7882 - val_loss: 0.4225 - val_accuracy: 0.8077\n",
      "Epoch 13/100\n",
      "59/59 - 0s - loss: 0.4567 - accuracy: 0.7806 - val_loss: 0.4216 - val_accuracy: 0.8077\n",
      "Epoch 14/100\n",
      "59/59 - 0s - loss: 0.4590 - accuracy: 0.7871 - val_loss: 0.4228 - val_accuracy: 0.8077\n",
      "Epoch 15/100\n",
      "59/59 - 0s - loss: 0.4608 - accuracy: 0.7774 - val_loss: 0.4266 - val_accuracy: 0.8269\n",
      "Epoch 16/100\n",
      "59/59 - 0s - loss: 0.4532 - accuracy: 0.7935 - val_loss: 0.4259 - val_accuracy: 0.8269\n",
      "Epoch 17/100\n",
      "59/59 - 0s - loss: 0.4541 - accuracy: 0.7892 - val_loss: 0.4249 - val_accuracy: 0.8173\n",
      "Epoch 18/100\n",
      "59/59 - 0s - loss: 0.4514 - accuracy: 0.7957 - val_loss: 0.4231 - val_accuracy: 0.8077\n",
      "Epoch 19/100\n",
      "59/59 - 0s - loss: 0.4502 - accuracy: 0.7968 - val_loss: 0.4236 - val_accuracy: 0.8077\n",
      "Epoch 20/100\n",
      "59/59 - 0s - loss: 0.4494 - accuracy: 0.7914 - val_loss: 0.4227 - val_accuracy: 0.8077\n",
      "Epoch 21/100\n",
      "59/59 - 0s - loss: 0.4499 - accuracy: 0.7935 - val_loss: 0.4265 - val_accuracy: 0.8077\n",
      "Epoch 22/100\n",
      "59/59 - 0s - loss: 0.4480 - accuracy: 0.7968 - val_loss: 0.4235 - val_accuracy: 0.8077\n",
      "Epoch 23/100\n",
      "59/59 - 0s - loss: 0.4484 - accuracy: 0.7978 - val_loss: 0.4285 - val_accuracy: 0.8173\n",
      "Epoch 24/100\n",
      "59/59 - 0s - loss: 0.4472 - accuracy: 0.7925 - val_loss: 0.4256 - val_accuracy: 0.8173\n",
      "Epoch 25/100\n",
      "59/59 - 0s - loss: 0.4486 - accuracy: 0.7892 - val_loss: 0.4296 - val_accuracy: 0.8173\n",
      "Epoch 26/100\n",
      "59/59 - 0s - loss: 0.4478 - accuracy: 0.7968 - val_loss: 0.4214 - val_accuracy: 0.8173\n",
      "Epoch 27/100\n",
      "59/59 - 0s - loss: 0.4484 - accuracy: 0.7849 - val_loss: 0.4231 - val_accuracy: 0.8173\n",
      "Epoch 28/100\n",
      "59/59 - 0s - loss: 0.4457 - accuracy: 0.7925 - val_loss: 0.4253 - val_accuracy: 0.8077\n",
      "Epoch 29/100\n",
      "59/59 - 0s - loss: 0.4444 - accuracy: 0.7892 - val_loss: 0.4257 - val_accuracy: 0.8077\n",
      "Epoch 30/100\n",
      "59/59 - 0s - loss: 0.4478 - accuracy: 0.7946 - val_loss: 0.4282 - val_accuracy: 0.8077\n",
      "Epoch 31/100\n",
      "59/59 - 0s - loss: 0.4452 - accuracy: 0.7978 - val_loss: 0.4282 - val_accuracy: 0.7981\n",
      "Epoch 32/100\n",
      "59/59 - 0s - loss: 0.4454 - accuracy: 0.7925 - val_loss: 0.4298 - val_accuracy: 0.8173\n",
      "Epoch 33/100\n",
      "59/59 - 0s - loss: 0.4439 - accuracy: 0.7946 - val_loss: 0.4272 - val_accuracy: 0.8077\n",
      "Epoch 34/100\n",
      "59/59 - 0s - loss: 0.4429 - accuracy: 0.7925 - val_loss: 0.4270 - val_accuracy: 0.8077\n",
      "Epoch 35/100\n",
      "59/59 - 0s - loss: 0.4450 - accuracy: 0.7968 - val_loss: 0.4240 - val_accuracy: 0.8077\n",
      "Epoch 36/100\n",
      "59/59 - 0s - loss: 0.4444 - accuracy: 0.7957 - val_loss: 0.4255 - val_accuracy: 0.8077\n",
      "Epoch 37/100\n",
      "59/59 - 0s - loss: 0.4406 - accuracy: 0.8032 - val_loss: 0.4286 - val_accuracy: 0.8173\n",
      "Epoch 38/100\n",
      "59/59 - 0s - loss: 0.4419 - accuracy: 0.7968 - val_loss: 0.4216 - val_accuracy: 0.8077\n",
      "Epoch 39/100\n",
      "59/59 - 0s - loss: 0.4405 - accuracy: 0.7989 - val_loss: 0.4257 - val_accuracy: 0.8077\n",
      "Epoch 40/100\n",
      "59/59 - 0s - loss: 0.4394 - accuracy: 0.7968 - val_loss: 0.4237 - val_accuracy: 0.8077\n",
      "Epoch 41/100\n",
      "59/59 - 0s - loss: 0.4411 - accuracy: 0.7968 - val_loss: 0.4225 - val_accuracy: 0.8173\n",
      "Epoch 42/100\n",
      "59/59 - 0s - loss: 0.4394 - accuracy: 0.8011 - val_loss: 0.4228 - val_accuracy: 0.8173\n",
      "Epoch 43/100\n",
      "59/59 - 0s - loss: 0.4400 - accuracy: 0.7968 - val_loss: 0.4239 - val_accuracy: 0.8173\n",
      "Epoch 44/100\n",
      "59/59 - 0s - loss: 0.4418 - accuracy: 0.7978 - val_loss: 0.4251 - val_accuracy: 0.8173\n",
      "Epoch 45/100\n",
      "59/59 - 0s - loss: 0.4386 - accuracy: 0.7978 - val_loss: 0.4286 - val_accuracy: 0.8173\n",
      "Epoch 46/100\n",
      "59/59 - 0s - loss: 0.4403 - accuracy: 0.8011 - val_loss: 0.4330 - val_accuracy: 0.8077\n",
      "Epoch 47/100\n",
      "59/59 - 0s - loss: 0.4381 - accuracy: 0.7968 - val_loss: 0.4214 - val_accuracy: 0.8173\n",
      "Epoch 48/100\n",
      "59/59 - 0s - loss: 0.4374 - accuracy: 0.8032 - val_loss: 0.4200 - val_accuracy: 0.8269\n",
      "Epoch 49/100\n",
      "59/59 - 0s - loss: 0.4382 - accuracy: 0.8032 - val_loss: 0.4201 - val_accuracy: 0.8269\n",
      "Epoch 50/100\n",
      "59/59 - 0s - loss: 0.4372 - accuracy: 0.8054 - val_loss: 0.4250 - val_accuracy: 0.8077\n",
      "Epoch 51/100\n",
      "59/59 - 0s - loss: 0.4385 - accuracy: 0.8054 - val_loss: 0.4228 - val_accuracy: 0.8173\n",
      "Epoch 52/100\n",
      "59/59 - 0s - loss: 0.4382 - accuracy: 0.8032 - val_loss: 0.4202 - val_accuracy: 0.8269\n",
      "Epoch 53/100\n",
      "59/59 - 0s - loss: 0.4374 - accuracy: 0.8000 - val_loss: 0.4236 - val_accuracy: 0.8173\n",
      "Epoch 54/100\n",
      "59/59 - 0s - loss: 0.4383 - accuracy: 0.8022 - val_loss: 0.4285 - val_accuracy: 0.8173\n",
      "Epoch 55/100\n",
      "59/59 - 0s - loss: 0.4357 - accuracy: 0.7989 - val_loss: 0.4243 - val_accuracy: 0.8077\n",
      "Epoch 56/100\n",
      "59/59 - 0s - loss: 0.4350 - accuracy: 0.8032 - val_loss: 0.4211 - val_accuracy: 0.8173\n",
      "Epoch 57/100\n",
      "59/59 - 0s - loss: 0.4353 - accuracy: 0.8022 - val_loss: 0.4220 - val_accuracy: 0.8173\n",
      "Epoch 58/100\n",
      "59/59 - 0s - loss: 0.4343 - accuracy: 0.8054 - val_loss: 0.4309 - val_accuracy: 0.8173\n",
      "Epoch 59/100\n",
      "59/59 - 0s - loss: 0.4401 - accuracy: 0.8022 - val_loss: 0.4258 - val_accuracy: 0.8077\n",
      "Epoch 60/100\n",
      "59/59 - 0s - loss: 0.4377 - accuracy: 0.8043 - val_loss: 0.4243 - val_accuracy: 0.8077\n",
      "Epoch 61/100\n",
      "59/59 - 0s - loss: 0.4345 - accuracy: 0.8086 - val_loss: 0.4235 - val_accuracy: 0.8365\n",
      "Epoch 62/100\n",
      "59/59 - 0s - loss: 0.4349 - accuracy: 0.8054 - val_loss: 0.4192 - val_accuracy: 0.8365\n",
      "Epoch 63/100\n",
      "59/59 - 0s - loss: 0.4291 - accuracy: 0.8097 - val_loss: 0.4238 - val_accuracy: 0.8365\n",
      "Epoch 64/100\n",
      "59/59 - 0s - loss: 0.4346 - accuracy: 0.8054 - val_loss: 0.4222 - val_accuracy: 0.8365\n",
      "Epoch 65/100\n",
      "59/59 - 0s - loss: 0.4344 - accuracy: 0.8108 - val_loss: 0.4176 - val_accuracy: 0.8365\n",
      "Epoch 66/100\n",
      "59/59 - 0s - loss: 0.4313 - accuracy: 0.8118 - val_loss: 0.4207 - val_accuracy: 0.8173\n",
      "Epoch 67/100\n",
      "59/59 - 0s - loss: 0.4301 - accuracy: 0.8097 - val_loss: 0.4141 - val_accuracy: 0.8558\n",
      "Epoch 68/100\n",
      "59/59 - 0s - loss: 0.4385 - accuracy: 0.8011 - val_loss: 0.4201 - val_accuracy: 0.8269\n",
      "Epoch 69/100\n",
      "59/59 - 0s - loss: 0.4326 - accuracy: 0.8118 - val_loss: 0.4198 - val_accuracy: 0.8173\n",
      "Epoch 70/100\n",
      "59/59 - 0s - loss: 0.4369 - accuracy: 0.8097 - val_loss: 0.4167 - val_accuracy: 0.8462\n",
      "Epoch 71/100\n",
      "59/59 - 0s - loss: 0.4298 - accuracy: 0.8140 - val_loss: 0.4209 - val_accuracy: 0.8173\n",
      "Epoch 72/100\n",
      "59/59 - 0s - loss: 0.4341 - accuracy: 0.8032 - val_loss: 0.4202 - val_accuracy: 0.8269\n",
      "Epoch 73/100\n",
      "59/59 - 0s - loss: 0.4314 - accuracy: 0.8075 - val_loss: 0.4221 - val_accuracy: 0.8365\n",
      "Epoch 74/100\n",
      "59/59 - 0s - loss: 0.4319 - accuracy: 0.8097 - val_loss: 0.4196 - val_accuracy: 0.8365\n",
      "Epoch 75/100\n",
      "59/59 - 0s - loss: 0.4282 - accuracy: 0.8065 - val_loss: 0.4226 - val_accuracy: 0.8269\n",
      "Epoch 76/100\n",
      "59/59 - 0s - loss: 0.4276 - accuracy: 0.8108 - val_loss: 0.4212 - val_accuracy: 0.8365\n",
      "Epoch 77/100\n",
      "59/59 - 0s - loss: 0.4256 - accuracy: 0.8151 - val_loss: 0.4166 - val_accuracy: 0.8365\n",
      "Epoch 78/100\n",
      "59/59 - 0s - loss: 0.4250 - accuracy: 0.8129 - val_loss: 0.4240 - val_accuracy: 0.8269\n",
      "Epoch 79/100\n",
      "59/59 - 0s - loss: 0.4286 - accuracy: 0.8075 - val_loss: 0.4176 - val_accuracy: 0.8462\n",
      "Epoch 80/100\n",
      "59/59 - 0s - loss: 0.4270 - accuracy: 0.8108 - val_loss: 0.4170 - val_accuracy: 0.8462\n",
      "Epoch 81/100\n",
      "59/59 - 0s - loss: 0.4257 - accuracy: 0.8140 - val_loss: 0.4217 - val_accuracy: 0.8269\n",
      "Epoch 82/100\n",
      "59/59 - 0s - loss: 0.4250 - accuracy: 0.8086 - val_loss: 0.4204 - val_accuracy: 0.8365\n",
      "Epoch 83/100\n",
      "59/59 - 0s - loss: 0.4284 - accuracy: 0.8118 - val_loss: 0.4232 - val_accuracy: 0.8269\n",
      "Epoch 84/100\n",
      "59/59 - 0s - loss: 0.4252 - accuracy: 0.8011 - val_loss: 0.4148 - val_accuracy: 0.8462\n",
      "Epoch 85/100\n",
      "59/59 - 0s - loss: 0.4229 - accuracy: 0.8118 - val_loss: 0.4195 - val_accuracy: 0.8365\n",
      "Epoch 86/100\n",
      "59/59 - 0s - loss: 0.4311 - accuracy: 0.8129 - val_loss: 0.4181 - val_accuracy: 0.8558\n",
      "Epoch 87/100\n",
      "59/59 - 0s - loss: 0.4228 - accuracy: 0.8151 - val_loss: 0.4174 - val_accuracy: 0.8462\n",
      "Epoch 88/100\n",
      "59/59 - 0s - loss: 0.4207 - accuracy: 0.8151 - val_loss: 0.4152 - val_accuracy: 0.8558\n",
      "Epoch 89/100\n",
      "59/59 - 0s - loss: 0.4202 - accuracy: 0.8204 - val_loss: 0.4157 - val_accuracy: 0.8462\n",
      "Epoch 90/100\n",
      "59/59 - 0s - loss: 0.4247 - accuracy: 0.8129 - val_loss: 0.4198 - val_accuracy: 0.8365\n",
      "Epoch 91/100\n",
      "59/59 - 0s - loss: 0.4246 - accuracy: 0.8118 - val_loss: 0.4155 - val_accuracy: 0.8269\n",
      "Epoch 92/100\n",
      "59/59 - 0s - loss: 0.4198 - accuracy: 0.8161 - val_loss: 0.4145 - val_accuracy: 0.8462\n",
      "Epoch 93/100\n",
      "59/59 - 0s - loss: 0.4205 - accuracy: 0.8161 - val_loss: 0.4168 - val_accuracy: 0.8365\n",
      "Epoch 94/100\n",
      "59/59 - 0s - loss: 0.4234 - accuracy: 0.8151 - val_loss: 0.4181 - val_accuracy: 0.8462\n",
      "Epoch 95/100\n",
      "59/59 - 0s - loss: 0.4210 - accuracy: 0.8151 - val_loss: 0.4215 - val_accuracy: 0.8365\n",
      "Epoch 96/100\n",
      "59/59 - 0s - loss: 0.4173 - accuracy: 0.8140 - val_loss: 0.4148 - val_accuracy: 0.8462\n",
      "Epoch 97/100\n",
      "59/59 - 0s - loss: 0.4156 - accuracy: 0.8183 - val_loss: 0.4181 - val_accuracy: 0.8558\n",
      "Epoch 98/100\n",
      "59/59 - 0s - loss: 0.4199 - accuracy: 0.8183 - val_loss: 0.4123 - val_accuracy: 0.8558\n",
      "Epoch 99/100\n",
      "59/59 - 0s - loss: 0.4199 - accuracy: 0.8140 - val_loss: 0.4113 - val_accuracy: 0.8558\n",
      "Epoch 100/100\n",
      "59/59 - 0s - loss: 0.4176 - accuracy: 0.8215 - val_loss: 0.4159 - val_accuracy: 0.8365\n"
     ]
    }
   ],
   "source": [
    "#設定訓練資料參數\n",
    "#設定訓言資料與驗證資料比例\n",
    "#設定epoch訓練週期與batch_size每一批次訓練筆數\n",
    "#verbose設定顯示訓練過程\n",
    "train_history = model.fit(\n",
    "    x=train_Features,\n",
    "    y=train_Label,\n",
    "    validation_split = 0.1,\n",
    "    epochs = 100,\n",
    "    batch_size = 16,\n",
    "    verbose=2)"
   ]
  },
  {
   "cell_type": "code",
   "execution_count": 163,
   "metadata": {},
   "outputs": [
    {
     "name": "stdout",
     "output_type": "stream",
     "text": [
      "9/9 [==============================] - 0s 2ms/step - loss: 0.4339 - accuracy: 0.8145\n"
     ]
    }
   ],
   "source": [
    "#評估模型準確率\n",
    "scores = model.evaluate(x = test_Features,y = test_Label)"
   ]
  },
  {
   "cell_type": "code",
   "execution_count": 164,
   "metadata": {},
   "outputs": [
    {
     "data": {
      "text/plain": [
       "0.8145454525947571"
      ]
     },
     "execution_count": 164,
     "metadata": {},
     "output_type": "execute_result"
    }
   ],
   "source": [
    "scores[1]"
   ]
  },
  {
   "cell_type": "markdown",
   "metadata": {},
   "source": [
    "# Prediction"
   ]
  },
  {
   "cell_type": "code",
   "execution_count": 165,
   "metadata": {},
   "outputs": [
    {
     "ename": "AttributeError",
     "evalue": "'DataFrame' object has no attribute 'Series'",
     "output_type": "error",
     "traceback": [
      "\u001b[1;31m---------------------------------------------------------------------------\u001b[0m",
      "\u001b[1;31mAttributeError\u001b[0m                            Traceback (most recent call last)",
      "\u001b[1;32m<ipython-input-165-96618db3afa2>\u001b[0m in \u001b[0;36m<module>\u001b[1;34m\u001b[0m\n\u001b[0;32m      1\u001b[0m \u001b[1;31m#匯入自定義的人物data\u001b[0m\u001b[1;33m\u001b[0m\u001b[1;33m\u001b[0m\u001b[1;33m\u001b[0m\u001b[0m\n\u001b[1;32m----> 2\u001b[1;33m \u001b[0mJack\u001b[0m \u001b[1;33m=\u001b[0m \u001b[0mpd\u001b[0m\u001b[1;33m.\u001b[0m\u001b[0mSeries\u001b[0m\u001b[1;33m(\u001b[0m\u001b[1;33m[\u001b[0m\u001b[1;36m0\u001b[0m\u001b[1;33m,\u001b[0m\u001b[1;34m'Jack'\u001b[0m\u001b[1;33m,\u001b[0m\u001b[1;36m3\u001b[0m\u001b[1;33m,\u001b[0m\u001b[1;34m'male'\u001b[0m\u001b[1;33m,\u001b[0m\u001b[1;36m23\u001b[0m\u001b[1;33m,\u001b[0m\u001b[1;36m1\u001b[0m\u001b[1;33m,\u001b[0m\u001b[1;36m0\u001b[0m\u001b[1;33m,\u001b[0m\u001b[1;36m5.0000\u001b[0m\u001b[1;33m,\u001b[0m\u001b[1;34m'S'\u001b[0m\u001b[1;33m]\u001b[0m\u001b[1;33m)\u001b[0m\u001b[1;33m\u001b[0m\u001b[1;33m\u001b[0m\u001b[0m\n\u001b[0m\u001b[0;32m      3\u001b[0m \u001b[0mRose\u001b[0m \u001b[1;33m=\u001b[0m \u001b[0mpd\u001b[0m\u001b[1;33m.\u001b[0m\u001b[0mSeries\u001b[0m\u001b[1;33m(\u001b[0m\u001b[1;33m[\u001b[0m\u001b[1;36m1\u001b[0m\u001b[1;33m,\u001b[0m\u001b[1;34m'Rose'\u001b[0m\u001b[1;33m,\u001b[0m\u001b[1;36m1\u001b[0m\u001b[1;33m,\u001b[0m\u001b[1;34m'female'\u001b[0m\u001b[1;33m,\u001b[0m\u001b[1;36m20\u001b[0m\u001b[1;33m,\u001b[0m\u001b[1;36m1\u001b[0m\u001b[1;33m,\u001b[0m\u001b[1;36m0\u001b[0m\u001b[1;33m,\u001b[0m\u001b[1;36m100.0000\u001b[0m\u001b[1;33m,\u001b[0m\u001b[1;34m'S'\u001b[0m\u001b[1;33m]\u001b[0m\u001b[1;33m)\u001b[0m\u001b[1;33m\u001b[0m\u001b[1;33m\u001b[0m\u001b[0m\n\u001b[0;32m      4\u001b[0m JR_df = pd.DataFrame([list(Jack),list(Rose)],\n\u001b[0;32m      5\u001b[0m                     columns=['survived','name','pclass','sex','age','sibsp','parch','fare','embarked'])\n",
      "\u001b[1;32m~\\anaconda3\\lib\\site-packages\\pandas\\core\\generic.py\u001b[0m in \u001b[0;36m__getattr__\u001b[1;34m(self, name)\u001b[0m\n\u001b[0;32m   5463\u001b[0m             \u001b[1;32mif\u001b[0m \u001b[0mself\u001b[0m\u001b[1;33m.\u001b[0m\u001b[0m_info_axis\u001b[0m\u001b[1;33m.\u001b[0m\u001b[0m_can_hold_identifiers_and_holds_name\u001b[0m\u001b[1;33m(\u001b[0m\u001b[0mname\u001b[0m\u001b[1;33m)\u001b[0m\u001b[1;33m:\u001b[0m\u001b[1;33m\u001b[0m\u001b[1;33m\u001b[0m\u001b[0m\n\u001b[0;32m   5464\u001b[0m                 \u001b[1;32mreturn\u001b[0m \u001b[0mself\u001b[0m\u001b[1;33m[\u001b[0m\u001b[0mname\u001b[0m\u001b[1;33m]\u001b[0m\u001b[1;33m\u001b[0m\u001b[1;33m\u001b[0m\u001b[0m\n\u001b[1;32m-> 5465\u001b[1;33m             \u001b[1;32mreturn\u001b[0m \u001b[0mobject\u001b[0m\u001b[1;33m.\u001b[0m\u001b[0m__getattribute__\u001b[0m\u001b[1;33m(\u001b[0m\u001b[0mself\u001b[0m\u001b[1;33m,\u001b[0m \u001b[0mname\u001b[0m\u001b[1;33m)\u001b[0m\u001b[1;33m\u001b[0m\u001b[1;33m\u001b[0m\u001b[0m\n\u001b[0m\u001b[0;32m   5466\u001b[0m \u001b[1;33m\u001b[0m\u001b[0m\n\u001b[0;32m   5467\u001b[0m     \u001b[1;32mdef\u001b[0m \u001b[0m__setattr__\u001b[0m\u001b[1;33m(\u001b[0m\u001b[0mself\u001b[0m\u001b[1;33m,\u001b[0m \u001b[0mname\u001b[0m\u001b[1;33m:\u001b[0m \u001b[0mstr\u001b[0m\u001b[1;33m,\u001b[0m \u001b[0mvalue\u001b[0m\u001b[1;33m)\u001b[0m \u001b[1;33m->\u001b[0m \u001b[1;32mNone\u001b[0m\u001b[1;33m:\u001b[0m\u001b[1;33m\u001b[0m\u001b[1;33m\u001b[0m\u001b[0m\n",
      "\u001b[1;31mAttributeError\u001b[0m: 'DataFrame' object has no attribute 'Series'"
     ]
    }
   ],
   "source": [
    "#匯入自定義的人物data\n",
    "Jack = pd.Series([0,'Jack',3,'male',23,1,0,5.0000,'S'])\n",
    "Rose = pd.Series([1,'Rose',1,'female',20,1,0,100.0000,'S'])\n",
    "JR_df = pd.DataFrame([list(Jack),list(Rose)],\n",
    "                    columns=['survived','name','pclass','sex','age','sibsp','parch','fare','embarked'])"
   ]
  },
  {
   "cell_type": "code",
   "execution_count": 166,
   "metadata": {},
   "outputs": [
    {
     "ename": "AttributeError",
     "evalue": "'DataFrame' object has no attribute 'concat'",
     "output_type": "error",
     "traceback": [
      "\u001b[1;31m---------------------------------------------------------------------------\u001b[0m",
      "\u001b[1;31mAttributeError\u001b[0m                            Traceback (most recent call last)",
      "\u001b[1;32m<ipython-input-166-32f7855d9334>\u001b[0m in \u001b[0;36m<module>\u001b[1;34m\u001b[0m\n\u001b[1;32m----> 1\u001b[1;33m \u001b[0mall_df\u001b[0m \u001b[1;33m=\u001b[0m \u001b[0mpd\u001b[0m\u001b[1;33m.\u001b[0m\u001b[0mconcat\u001b[0m\u001b[1;33m(\u001b[0m\u001b[1;33m[\u001b[0m\u001b[0mall_df\u001b[0m\u001b[1;33m,\u001b[0m\u001b[0mJR_df\u001b[0m\u001b[1;33m]\u001b[0m\u001b[1;33m)\u001b[0m\u001b[1;33m\u001b[0m\u001b[1;33m\u001b[0m\u001b[0m\n\u001b[0m",
      "\u001b[1;32m~\\anaconda3\\lib\\site-packages\\pandas\\core\\generic.py\u001b[0m in \u001b[0;36m__getattr__\u001b[1;34m(self, name)\u001b[0m\n\u001b[0;32m   5463\u001b[0m             \u001b[1;32mif\u001b[0m \u001b[0mself\u001b[0m\u001b[1;33m.\u001b[0m\u001b[0m_info_axis\u001b[0m\u001b[1;33m.\u001b[0m\u001b[0m_can_hold_identifiers_and_holds_name\u001b[0m\u001b[1;33m(\u001b[0m\u001b[0mname\u001b[0m\u001b[1;33m)\u001b[0m\u001b[1;33m:\u001b[0m\u001b[1;33m\u001b[0m\u001b[1;33m\u001b[0m\u001b[0m\n\u001b[0;32m   5464\u001b[0m                 \u001b[1;32mreturn\u001b[0m \u001b[0mself\u001b[0m\u001b[1;33m[\u001b[0m\u001b[0mname\u001b[0m\u001b[1;33m]\u001b[0m\u001b[1;33m\u001b[0m\u001b[1;33m\u001b[0m\u001b[0m\n\u001b[1;32m-> 5465\u001b[1;33m             \u001b[1;32mreturn\u001b[0m \u001b[0mobject\u001b[0m\u001b[1;33m.\u001b[0m\u001b[0m__getattribute__\u001b[0m\u001b[1;33m(\u001b[0m\u001b[0mself\u001b[0m\u001b[1;33m,\u001b[0m \u001b[0mname\u001b[0m\u001b[1;33m)\u001b[0m\u001b[1;33m\u001b[0m\u001b[1;33m\u001b[0m\u001b[0m\n\u001b[0m\u001b[0;32m   5466\u001b[0m \u001b[1;33m\u001b[0m\u001b[0m\n\u001b[0;32m   5467\u001b[0m     \u001b[1;32mdef\u001b[0m \u001b[0m__setattr__\u001b[0m\u001b[1;33m(\u001b[0m\u001b[0mself\u001b[0m\u001b[1;33m,\u001b[0m \u001b[0mname\u001b[0m\u001b[1;33m:\u001b[0m \u001b[0mstr\u001b[0m\u001b[1;33m,\u001b[0m \u001b[0mvalue\u001b[0m\u001b[1;33m)\u001b[0m \u001b[1;33m->\u001b[0m \u001b[1;32mNone\u001b[0m\u001b[1;33m:\u001b[0m\u001b[1;33m\u001b[0m\u001b[1;33m\u001b[0m\u001b[0m\n",
      "\u001b[1;31mAttributeError\u001b[0m: 'DataFrame' object has no attribute 'concat'"
     ]
    }
   ],
   "source": [
    "all_df = pd.concat([all_df,JR_df])"
   ]
  },
  {
   "cell_type": "code",
   "execution_count": 167,
   "metadata": {},
   "outputs": [
    {
     "data": {
      "text/html": [
       "<div>\n",
       "<style scoped>\n",
       "    .dataframe tbody tr th:only-of-type {\n",
       "        vertical-align: middle;\n",
       "    }\n",
       "\n",
       "    .dataframe tbody tr th {\n",
       "        vertical-align: top;\n",
       "    }\n",
       "\n",
       "    .dataframe thead th {\n",
       "        text-align: right;\n",
       "    }\n",
       "</style>\n",
       "<table border=\"1\" class=\"dataframe\">\n",
       "  <thead>\n",
       "    <tr style=\"text-align: right;\">\n",
       "      <th></th>\n",
       "      <th>survived</th>\n",
       "      <th>name</th>\n",
       "      <th>pclass</th>\n",
       "      <th>sex</th>\n",
       "      <th>age</th>\n",
       "      <th>sibsp</th>\n",
       "      <th>parch</th>\n",
       "      <th>fare</th>\n",
       "      <th>embarked</th>\n",
       "      <th>probability</th>\n",
       "    </tr>\n",
       "  </thead>\n",
       "  <tbody>\n",
       "    <tr>\n",
       "      <th>0</th>\n",
       "      <td>0</td>\n",
       "      <td>Jack</td>\n",
       "      <td>3</td>\n",
       "      <td>male</td>\n",
       "      <td>23.0</td>\n",
       "      <td>1</td>\n",
       "      <td>0</td>\n",
       "      <td>5.0</td>\n",
       "      <td>S</td>\n",
       "      <td>0.241468</td>\n",
       "    </tr>\n",
       "    <tr>\n",
       "      <th>1</th>\n",
       "      <td>1</td>\n",
       "      <td>Rose</td>\n",
       "      <td>1</td>\n",
       "      <td>female</td>\n",
       "      <td>20.0</td>\n",
       "      <td>1</td>\n",
       "      <td>0</td>\n",
       "      <td>100.0</td>\n",
       "      <td>S</td>\n",
       "      <td>0.976595</td>\n",
       "    </tr>\n",
       "  </tbody>\n",
       "</table>\n",
       "</div>"
      ],
      "text/plain": [
       "   survived  name  pclass     sex   age  sibsp  parch   fare embarked  \\\n",
       "0         0  Jack       3    male  23.0      1      0    5.0        S   \n",
       "1         1  Rose       1  female  20.0      1      0  100.0        S   \n",
       "\n",
       "   probability  \n",
       "0     0.241468  \n",
       "1     0.976595  "
      ]
     },
     "execution_count": 167,
     "metadata": {},
     "output_type": "execute_result"
    }
   ],
   "source": [
    "all_df[-2:]"
   ]
  },
  {
   "cell_type": "code",
   "execution_count": 168,
   "metadata": {},
   "outputs": [
    {
     "ename": "AttributeError",
     "evalue": "'DataFrame' object has no attribute 'get_dummies'",
     "output_type": "error",
     "traceback": [
      "\u001b[1;31m---------------------------------------------------------------------------\u001b[0m",
      "\u001b[1;31mAttributeError\u001b[0m                            Traceback (most recent call last)",
      "\u001b[1;32m<ipython-input-168-eaca16725cdb>\u001b[0m in \u001b[0;36m<module>\u001b[1;34m\u001b[0m\n\u001b[1;32m----> 1\u001b[1;33m \u001b[0mall_Features\u001b[0m\u001b[1;33m,\u001b[0m\u001b[0mLabel\u001b[0m \u001b[1;33m=\u001b[0m \u001b[0mPreprocessData\u001b[0m\u001b[1;33m(\u001b[0m\u001b[0mall_df\u001b[0m\u001b[1;33m)\u001b[0m\u001b[1;33m\u001b[0m\u001b[1;33m\u001b[0m\u001b[0m\n\u001b[0m",
      "\u001b[1;32m<ipython-input-19-9dc9f70951ab>\u001b[0m in \u001b[0;36mPreprocessData\u001b[1;34m(all_df)\u001b[0m\n\u001b[0;32m      7\u001b[0m     \u001b[0mdf\u001b[0m\u001b[1;33m[\u001b[0m\u001b[1;34m'fare'\u001b[0m\u001b[1;33m]\u001b[0m \u001b[1;33m=\u001b[0m \u001b[0mdf\u001b[0m\u001b[1;33m[\u001b[0m\u001b[1;34m'fare'\u001b[0m\u001b[1;33m]\u001b[0m\u001b[1;33m.\u001b[0m\u001b[0mfillna\u001b[0m\u001b[1;33m(\u001b[0m\u001b[0mfare_mean\u001b[0m\u001b[1;33m)\u001b[0m\u001b[1;33m\u001b[0m\u001b[1;33m\u001b[0m\u001b[0m\n\u001b[0;32m      8\u001b[0m     \u001b[0mdf\u001b[0m\u001b[1;33m[\u001b[0m\u001b[1;34m'sex'\u001b[0m\u001b[1;33m]\u001b[0m \u001b[1;33m=\u001b[0m \u001b[0mdf\u001b[0m\u001b[1;33m[\u001b[0m\u001b[1;34m'sex'\u001b[0m\u001b[1;33m]\u001b[0m\u001b[1;33m.\u001b[0m\u001b[0mmap\u001b[0m\u001b[1;33m(\u001b[0m\u001b[1;33m{\u001b[0m\u001b[1;34m'female'\u001b[0m\u001b[1;33m:\u001b[0m\u001b[1;36m0\u001b[0m\u001b[1;33m,\u001b[0m \u001b[1;34m'male'\u001b[0m\u001b[1;33m:\u001b[0m\u001b[1;36m1\u001b[0m\u001b[1;33m}\u001b[0m\u001b[1;33m)\u001b[0m\u001b[1;33m.\u001b[0m\u001b[0mastype\u001b[0m\u001b[1;33m(\u001b[0m\u001b[0mint\u001b[0m\u001b[1;33m)\u001b[0m\u001b[1;33m\u001b[0m\u001b[1;33m\u001b[0m\u001b[0m\n\u001b[1;32m----> 9\u001b[1;33m     \u001b[0mx_OneHot_df\u001b[0m \u001b[1;33m=\u001b[0m \u001b[0mpd\u001b[0m\u001b[1;33m.\u001b[0m\u001b[0mget_dummies\u001b[0m\u001b[1;33m(\u001b[0m\u001b[0mdata\u001b[0m\u001b[1;33m=\u001b[0m\u001b[0mdf\u001b[0m\u001b[1;33m,\u001b[0m\u001b[0mcolumns\u001b[0m\u001b[1;33m=\u001b[0m\u001b[1;33m[\u001b[0m\u001b[1;34m\"embarked\"\u001b[0m\u001b[1;33m]\u001b[0m\u001b[1;33m)\u001b[0m\u001b[1;33m\u001b[0m\u001b[1;33m\u001b[0m\u001b[0m\n\u001b[0m\u001b[0;32m     10\u001b[0m \u001b[1;33m\u001b[0m\u001b[0m\n\u001b[0;32m     11\u001b[0m     \u001b[0mndarray\u001b[0m \u001b[1;33m=\u001b[0m \u001b[0mx_OneHot_df\u001b[0m\u001b[1;33m.\u001b[0m\u001b[0mvalues\u001b[0m\u001b[1;33m\u001b[0m\u001b[1;33m\u001b[0m\u001b[0m\n",
      "\u001b[1;32m~\\anaconda3\\lib\\site-packages\\pandas\\core\\generic.py\u001b[0m in \u001b[0;36m__getattr__\u001b[1;34m(self, name)\u001b[0m\n\u001b[0;32m   5463\u001b[0m             \u001b[1;32mif\u001b[0m \u001b[0mself\u001b[0m\u001b[1;33m.\u001b[0m\u001b[0m_info_axis\u001b[0m\u001b[1;33m.\u001b[0m\u001b[0m_can_hold_identifiers_and_holds_name\u001b[0m\u001b[1;33m(\u001b[0m\u001b[0mname\u001b[0m\u001b[1;33m)\u001b[0m\u001b[1;33m:\u001b[0m\u001b[1;33m\u001b[0m\u001b[1;33m\u001b[0m\u001b[0m\n\u001b[0;32m   5464\u001b[0m                 \u001b[1;32mreturn\u001b[0m \u001b[0mself\u001b[0m\u001b[1;33m[\u001b[0m\u001b[0mname\u001b[0m\u001b[1;33m]\u001b[0m\u001b[1;33m\u001b[0m\u001b[1;33m\u001b[0m\u001b[0m\n\u001b[1;32m-> 5465\u001b[1;33m             \u001b[1;32mreturn\u001b[0m \u001b[0mobject\u001b[0m\u001b[1;33m.\u001b[0m\u001b[0m__getattribute__\u001b[0m\u001b[1;33m(\u001b[0m\u001b[0mself\u001b[0m\u001b[1;33m,\u001b[0m \u001b[0mname\u001b[0m\u001b[1;33m)\u001b[0m\u001b[1;33m\u001b[0m\u001b[1;33m\u001b[0m\u001b[0m\n\u001b[0m\u001b[0;32m   5466\u001b[0m \u001b[1;33m\u001b[0m\u001b[0m\n\u001b[0;32m   5467\u001b[0m     \u001b[1;32mdef\u001b[0m \u001b[0m__setattr__\u001b[0m\u001b[1;33m(\u001b[0m\u001b[0mself\u001b[0m\u001b[1;33m,\u001b[0m \u001b[0mname\u001b[0m\u001b[1;33m:\u001b[0m \u001b[0mstr\u001b[0m\u001b[1;33m,\u001b[0m \u001b[0mvalue\u001b[0m\u001b[1;33m)\u001b[0m \u001b[1;33m->\u001b[0m \u001b[1;32mNone\u001b[0m\u001b[1;33m:\u001b[0m\u001b[1;33m\u001b[0m\u001b[1;33m\u001b[0m\u001b[0m\n",
      "\u001b[1;31mAttributeError\u001b[0m: 'DataFrame' object has no attribute 'get_dummies'"
     ]
    }
   ],
   "source": [
    "all_Features,Label = PreprocessData(all_df)"
   ]
  },
  {
   "cell_type": "code",
   "execution_count": 152,
   "metadata": {},
   "outputs": [],
   "source": [
    "#透過剛剛訓練好的模型預測其存活率\n",
    "all_probability = model.predict(all_Features)"
   ]
  },
  {
   "cell_type": "code",
   "execution_count": 153,
   "metadata": {},
   "outputs": [
    {
     "data": {
      "text/plain": [
       "array([[0.97798055],\n",
       "       [0.8275585 ],\n",
       "       [0.98185694],\n",
       "       [0.28852934],\n",
       "       [0.98112535],\n",
       "       [0.24379593],\n",
       "       [0.96958303],\n",
       "       [0.37462598],\n",
       "       [0.97301996],\n",
       "       [0.32171267]], dtype=float32)"
      ]
     },
     "execution_count": 153,
     "metadata": {},
     "output_type": "execute_result"
    }
   ],
   "source": [
    "all_probability[:10]"
   ]
  },
  {
   "cell_type": "code",
   "execution_count": 154,
   "metadata": {},
   "outputs": [],
   "source": [
    "pd=all_df"
   ]
  },
  {
   "cell_type": "code",
   "execution_count": 155,
   "metadata": {},
   "outputs": [
    {
     "ename": "ValueError",
     "evalue": "cannot insert probability, already exists",
     "output_type": "error",
     "traceback": [
      "\u001b[1;31m---------------------------------------------------------------------------\u001b[0m",
      "\u001b[1;31mValueError\u001b[0m                                Traceback (most recent call last)",
      "\u001b[1;32m<ipython-input-155-b6b2ae208d70>\u001b[0m in \u001b[0;36m<module>\u001b[1;34m\u001b[0m\n\u001b[1;32m----> 1\u001b[1;33m pd.insert(len(all_df.columns),\n\u001b[0m\u001b[0;32m      2\u001b[0m           'probability',all_probability)\n",
      "\u001b[1;32m~\\anaconda3\\lib\\site-packages\\pandas\\core\\frame.py\u001b[0m in \u001b[0;36minsert\u001b[1;34m(self, loc, column, value, allow_duplicates)\u001b[0m\n\u001b[0;32m   3761\u001b[0m         \u001b[0mself\u001b[0m\u001b[1;33m.\u001b[0m\u001b[0m_ensure_valid_index\u001b[0m\u001b[1;33m(\u001b[0m\u001b[0mvalue\u001b[0m\u001b[1;33m)\u001b[0m\u001b[1;33m\u001b[0m\u001b[1;33m\u001b[0m\u001b[0m\n\u001b[0;32m   3762\u001b[0m         \u001b[0mvalue\u001b[0m \u001b[1;33m=\u001b[0m \u001b[0mself\u001b[0m\u001b[1;33m.\u001b[0m\u001b[0m_sanitize_column\u001b[0m\u001b[1;33m(\u001b[0m\u001b[0mcolumn\u001b[0m\u001b[1;33m,\u001b[0m \u001b[0mvalue\u001b[0m\u001b[1;33m,\u001b[0m \u001b[0mbroadcast\u001b[0m\u001b[1;33m=\u001b[0m\u001b[1;32mFalse\u001b[0m\u001b[1;33m)\u001b[0m\u001b[1;33m\u001b[0m\u001b[1;33m\u001b[0m\u001b[0m\n\u001b[1;32m-> 3763\u001b[1;33m         \u001b[0mself\u001b[0m\u001b[1;33m.\u001b[0m\u001b[0m_mgr\u001b[0m\u001b[1;33m.\u001b[0m\u001b[0minsert\u001b[0m\u001b[1;33m(\u001b[0m\u001b[0mloc\u001b[0m\u001b[1;33m,\u001b[0m \u001b[0mcolumn\u001b[0m\u001b[1;33m,\u001b[0m \u001b[0mvalue\u001b[0m\u001b[1;33m,\u001b[0m \u001b[0mallow_duplicates\u001b[0m\u001b[1;33m=\u001b[0m\u001b[0mallow_duplicates\u001b[0m\u001b[1;33m)\u001b[0m\u001b[1;33m\u001b[0m\u001b[1;33m\u001b[0m\u001b[0m\n\u001b[0m\u001b[0;32m   3764\u001b[0m \u001b[1;33m\u001b[0m\u001b[0m\n\u001b[0;32m   3765\u001b[0m     \u001b[1;32mdef\u001b[0m \u001b[0massign\u001b[0m\u001b[1;33m(\u001b[0m\u001b[0mself\u001b[0m\u001b[1;33m,\u001b[0m \u001b[1;33m**\u001b[0m\u001b[0mkwargs\u001b[0m\u001b[1;33m)\u001b[0m \u001b[1;33m->\u001b[0m \u001b[0mDataFrame\u001b[0m\u001b[1;33m:\u001b[0m\u001b[1;33m\u001b[0m\u001b[1;33m\u001b[0m\u001b[0m\n",
      "\u001b[1;32m~\\anaconda3\\lib\\site-packages\\pandas\\core\\internals\\managers.py\u001b[0m in \u001b[0;36minsert\u001b[1;34m(self, loc, item, value, allow_duplicates)\u001b[0m\n\u001b[0;32m   1189\u001b[0m         \u001b[1;32mif\u001b[0m \u001b[1;32mnot\u001b[0m \u001b[0mallow_duplicates\u001b[0m \u001b[1;32mand\u001b[0m \u001b[0mitem\u001b[0m \u001b[1;32min\u001b[0m \u001b[0mself\u001b[0m\u001b[1;33m.\u001b[0m\u001b[0mitems\u001b[0m\u001b[1;33m:\u001b[0m\u001b[1;33m\u001b[0m\u001b[1;33m\u001b[0m\u001b[0m\n\u001b[0;32m   1190\u001b[0m             \u001b[1;31m# Should this be a different kind of error??\u001b[0m\u001b[1;33m\u001b[0m\u001b[1;33m\u001b[0m\u001b[1;33m\u001b[0m\u001b[0m\n\u001b[1;32m-> 1191\u001b[1;33m             \u001b[1;32mraise\u001b[0m \u001b[0mValueError\u001b[0m\u001b[1;33m(\u001b[0m\u001b[1;34mf\"cannot insert {item}, already exists\"\u001b[0m\u001b[1;33m)\u001b[0m\u001b[1;33m\u001b[0m\u001b[1;33m\u001b[0m\u001b[0m\n\u001b[0m\u001b[0;32m   1192\u001b[0m \u001b[1;33m\u001b[0m\u001b[0m\n\u001b[0;32m   1193\u001b[0m         \u001b[1;32mif\u001b[0m \u001b[1;32mnot\u001b[0m \u001b[0misinstance\u001b[0m\u001b[1;33m(\u001b[0m\u001b[0mloc\u001b[0m\u001b[1;33m,\u001b[0m \u001b[0mint\u001b[0m\u001b[1;33m)\u001b[0m\u001b[1;33m:\u001b[0m\u001b[1;33m\u001b[0m\u001b[1;33m\u001b[0m\u001b[0m\n",
      "\u001b[1;31mValueError\u001b[0m: cannot insert probability, already exists"
     ]
    }
   ],
   "source": [
    "pd.insert(len(all_df.columns),\n",
    "          'probability',all_probability)"
   ]
  },
  {
   "cell_type": "code",
   "execution_count": 141,
   "metadata": {},
   "outputs": [
    {
     "data": {
      "text/html": [
       "<div>\n",
       "<style scoped>\n",
       "    .dataframe tbody tr th:only-of-type {\n",
       "        vertical-align: middle;\n",
       "    }\n",
       "\n",
       "    .dataframe tbody tr th {\n",
       "        vertical-align: top;\n",
       "    }\n",
       "\n",
       "    .dataframe thead th {\n",
       "        text-align: right;\n",
       "    }\n",
       "</style>\n",
       "<table border=\"1\" class=\"dataframe\">\n",
       "  <thead>\n",
       "    <tr style=\"text-align: right;\">\n",
       "      <th></th>\n",
       "      <th>survived</th>\n",
       "      <th>name</th>\n",
       "      <th>pclass</th>\n",
       "      <th>sex</th>\n",
       "      <th>age</th>\n",
       "      <th>sibsp</th>\n",
       "      <th>parch</th>\n",
       "      <th>fare</th>\n",
       "      <th>embarked</th>\n",
       "      <th>probability</th>\n",
       "    </tr>\n",
       "  </thead>\n",
       "  <tbody>\n",
       "    <tr>\n",
       "      <th>0</th>\n",
       "      <td>0</td>\n",
       "      <td>Jack</td>\n",
       "      <td>3</td>\n",
       "      <td>male</td>\n",
       "      <td>23.0</td>\n",
       "      <td>1</td>\n",
       "      <td>0</td>\n",
       "      <td>5.0</td>\n",
       "      <td>S</td>\n",
       "      <td>0.241468</td>\n",
       "    </tr>\n",
       "    <tr>\n",
       "      <th>1</th>\n",
       "      <td>1</td>\n",
       "      <td>Rose</td>\n",
       "      <td>1</td>\n",
       "      <td>female</td>\n",
       "      <td>20.0</td>\n",
       "      <td>1</td>\n",
       "      <td>0</td>\n",
       "      <td>100.0</td>\n",
       "      <td>S</td>\n",
       "      <td>0.976595</td>\n",
       "    </tr>\n",
       "  </tbody>\n",
       "</table>\n",
       "</div>"
      ],
      "text/plain": [
       "   survived  name  pclass     sex   age  sibsp  parch   fare embarked  \\\n",
       "0         0  Jack       3    male  23.0      1      0    5.0        S   \n",
       "1         1  Rose       1  female  20.0      1      0  100.0        S   \n",
       "\n",
       "   probability  \n",
       "0     0.241468  \n",
       "1     0.976595  "
      ]
     },
     "execution_count": 141,
     "metadata": {},
     "output_type": "execute_result"
    }
   ],
   "source": [
    "#最後一欄為其成果\n",
    "pd[-2:]"
   ]
  },
  {
   "cell_type": "code",
   "execution_count": null,
   "metadata": {},
   "outputs": [],
   "source": []
  }
 ],
 "metadata": {
  "kernelspec": {
   "display_name": "Python 3",
   "language": "python",
   "name": "python3"
  },
  "language_info": {
   "codemirror_mode": {
    "name": "ipython",
    "version": 3
   },
   "file_extension": ".py",
   "mimetype": "text/x-python",
   "name": "python",
   "nbconvert_exporter": "python",
   "pygments_lexer": "ipython3",
   "version": "3.8.8"
  }
 },
 "nbformat": 4,
 "nbformat_minor": 4
}
