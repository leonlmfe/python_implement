{
 "cells": [
  {
   "cell_type": "code",
   "execution_count": 1,
   "metadata": {},
   "outputs": [
    {
     "name": "stdout",
     "output_type": "stream",
     "text": [
      "步數: 25\n",
      "狀態數: 11\n"
     ]
    }
   ],
   "source": [
    "# 政大資科職碩 110971018 李昂縣\n",
    "\n",
    "# 以下列演算法解決 8-puzzle (輸入格式 : 演算法 數字序列)\n",
    "# ids => Iterative-Deepening Search\n",
    "# usc => Uniform-Cost Search\n",
    "# gbf => Greedy Best-First Search\n",
    "# ast => A* search\n",
    "# rbf => Recursive Best-First Search\n",
    "\n",
    "# 下列為範例\n",
    "%run 8puzzle.py ids 0,8,7,6,5,4,3,1,2"
   ]
  },
  {
   "cell_type": "code",
   "execution_count": 2,
   "metadata": {},
   "outputs": [
    {
     "name": "stdout",
     "output_type": "stream",
     "text": [
      "步數: 21\n",
      "狀態數: 412\n"
     ]
    }
   ],
   "source": [
    "%run 8puzzle.py ucs 0,8,7,6,5,4,3,1,2"
   ]
  },
  {
   "cell_type": "code",
   "execution_count": 3,
   "metadata": {},
   "outputs": [
    {
     "name": "stdout",
     "output_type": "stream",
     "text": [
      "步數: 41\n",
      "狀態數: 146\n"
     ]
    }
   ],
   "source": [
    "%run 8puzzle.py gbf 0,8,7,6,5,4,3,1,2"
   ]
  },
  {
   "cell_type": "code",
   "execution_count": 4,
   "metadata": {},
   "outputs": [
    {
     "name": "stdout",
     "output_type": "stream",
     "text": [
      "步數: 21\n",
      "狀態數: 414\n"
     ]
    }
   ],
   "source": [
    "%run 8puzzle.py ast 0,8,7,6,5,4,3,1,2"
   ]
  },
  {
   "cell_type": "code",
   "execution_count": 5,
   "metadata": {},
   "outputs": [
    {
     "name": "stdout",
     "output_type": "stream",
     "text": [
      "步數: 43\n",
      "狀態數: 317\n"
     ]
    }
   ],
   "source": [
    "%run 8puzzle.py rbf 0,8,7,6,5,4,3,1,2"
   ]
  },
  {
   "cell_type": "code",
   "execution_count": 6,
   "metadata": {},
   "outputs": [
    {
     "name": "stdout",
     "output_type": "stream",
     "text": [
      "步數: 16\n",
      "狀態數: 11\n"
     ]
    }
   ],
   "source": [
    "# 加分題 15puzzle\n",
    "%run 16puzzle.py ids 7,14,11,5,6,2,8,10,3,0,12,15,9,4,13,1"
   ]
  },
  {
   "cell_type": "code",
   "execution_count": 7,
   "metadata": {},
   "outputs": [
    {
     "name": "stdout",
     "output_type": "stream",
     "text": [
      "步數: 16\n",
      "狀態數: 70\n"
     ]
    }
   ],
   "source": [
    "%run 16puzzle.py ucs 7,14,11,5,6,2,8,10,3,0,12,15,9,4,13,1"
   ]
  },
  {
   "cell_type": "code",
   "execution_count": 8,
   "metadata": {},
   "outputs": [
    {
     "name": "stdout",
     "output_type": "stream",
     "text": [
      "步數: 16\n",
      "狀態數: 22\n"
     ]
    }
   ],
   "source": [
    "%run 16puzzle.py gbf 7,14,11,5,6,2,8,10,3,0,12,15,9,4,13,1"
   ]
  },
  {
   "cell_type": "code",
   "execution_count": 9,
   "metadata": {},
   "outputs": [
    {
     "name": "stdout",
     "output_type": "stream",
     "text": [
      "步數: 16\n",
      "狀態數: 70\n"
     ]
    }
   ],
   "source": [
    "%run 16puzzle.py ast 7,14,11,5,6,2,8,10,3,0,12,15,9,4,13,1"
   ]
  },
  {
   "cell_type": "code",
   "execution_count": 10,
   "metadata": {},
   "outputs": [
    {
     "name": "stdout",
     "output_type": "stream",
     "text": [
      "步數: 26\n",
      "狀態數: 33864\n"
     ]
    }
   ],
   "source": [
    "%run 16puzzle.py rbf 7,14,11,5,6,2,8,10,3,0,12,15,9,4,13,1"
   ]
  }
 ],
 "metadata": {
  "kernelspec": {
   "display_name": "Python 3",
   "language": "python",
   "name": "python3"
  },
  "language_info": {
   "codemirror_mode": {
    "name": "ipython",
    "version": 3
   },
   "file_extension": ".py",
   "mimetype": "text/x-python",
   "name": "python",
   "nbconvert_exporter": "python",
   "pygments_lexer": "ipython3",
   "version": "3.6.10"
  }
 },
 "nbformat": 4,
 "nbformat_minor": 4
}
